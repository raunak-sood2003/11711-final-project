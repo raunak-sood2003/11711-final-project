{
 "cells": [
  {
   "cell_type": "markdown",
   "metadata": {},
   "source": [
    "# merge generated Samples gpu # into one file "
   ]
  },
  {
   "cell_type": "code",
   "execution_count": 12,
   "metadata": {},
   "outputs": [],
   "source": [
    "def combine_output_files(num_gpus, output_filename):\n",
    "    with open(f'{output_filename}', 'w') as outfile:\n",
    "        for gpu_id in range(num_gpus):\n",
    "            input_file = f'generated_samples_gpu{gpu_id}.jsonl'\n",
    "            with open(input_file, 'r') as infile:\n",
    "                outfile.write(infile.read())\n",
    "combine_output_files(8, 'combined.jsonl')\n"
   ]
  },
  {
   "cell_type": "markdown",
   "metadata": {},
   "source": [
    "# sort by task_id"
   ]
  },
  {
   "cell_type": "code",
   "execution_count": 13,
   "metadata": {},
   "outputs": [],
   "source": [
    "import json\n",
    "with open(\"combined.jsonl\", \"r\") as file:\n",
    "    data = [json.loads(line) for line in file]\n",
    "for entry in data:\n",
    "    entry[\"task_id\"] = entry[\"task_id\"].replace(\"Python/\", \"HumanEval/\")\n",
    "data.sort(key=lambda x: int(x[\"task_id\"].split(\"/\")[1]))\n",
    "with open(\"deepseek_coder_6.7b_base_k100_temp8.jsonl\", \"w\") as file:\n",
    "    for entry in data:\n",
    "        json.dump(entry, file)\n",
    "        file.write(\"\\n\")"
   ]
  }
 ],
 "metadata": {
  "kernelspec": {
   "display_name": "Python 3.10 (tensorflow)",
   "language": "python",
   "name": "tensorflow"
  },
  "language_info": {
   "codemirror_mode": {
    "name": "ipython",
    "version": 3
   },
   "file_extension": ".py",
   "mimetype": "text/x-python",
   "name": "python",
   "nbconvert_exporter": "python",
   "pygments_lexer": "ipython3",
   "version": "3.10.13"
  }
 },
 "nbformat": 4,
 "nbformat_minor": 2
}
